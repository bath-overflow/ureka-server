{
 "cells": [
  {
   "cell_type": "code",
   "execution_count": 15,
   "id": "d8b1da7c",
   "metadata": {},
   "outputs": [],
   "source": [
    "import os\n",
    "\n",
    "os.environ[\"EXTRACT_IMAGE_BLOCK_CROP_HORIZONTAL_PAD\"] = \"30\"\n",
    "os.environ[\"EXTRACT_IMAGE_BLOCK_CROP_VERTICAL_PAD\"] = \"10\""
   ]
  },
  {
   "cell_type": "code",
   "execution_count": 47,
   "id": "59aef5bc",
   "metadata": {},
   "outputs": [
    {
     "name": "stderr",
     "output_type": "stream",
     "text": [
      "INFO: PDF text extraction failed, skip text extraction...\n",
      "INFO: Reading PDF for file: embedded-images-tables.pdf ...\n"
     ]
    }
   ],
   "source": [
    "from unstructured.partition.auto import partition\n",
    "\n",
    "elements = partition(\n",
    "    filename=\"embedded-images-tables.pdf\",\n",
    "    strategy=\"hi_res\",\n",
    "    extract_image_block_types=[\"Image\", \"Table\"],\n",
    "     extract_image_block_output_dir=\"output_img\"\n",
    "    )"
   ]
  },
  {
   "cell_type": "code",
   "execution_count": 48,
   "id": "782222ea",
   "metadata": {},
   "outputs": [
    {
     "name": "stdout",
     "output_type": "stream",
     "text": [
      "Header          2d5583                454                                     \n",
      "NarrativeText   f2883d     2d5583     O. Sanni, A.P.. Popoola / Data in Brief 22 (2019) 451-457\n",
      "Image           82f81c                5 1 os = — 10; =o ° © —\" 205 i —~é é —ip a5 — Control -2 — & 2.5 T T T 0.0000001 + —-0.00001 0.001 O14 Current Density (A/cm2)\n",
      "FigureCaption   53f386                Fig. 4. Anodic and cathodic polarization curve of stainless steel in 0.5 M H2SO, solution in the presence and absence of ES.\n",
      "Title           678447                Table 1                                 \n",
      "FigureCaption   dfc7b7     678447     Potentiodynamic polarization data for stainless steel in the absence and presence of ES in 0.5 M H2SO, solution.\n",
      "Table           a16555     678447     Inhibitor be (V/dec) ba (V/dec) Ecorr (V) icorr (A/cm?) Polarization Corrosion concentration (g) resistance (Q) rate (mm/year) oO 0.0335 0.0409 0.0003 24.0910 2.8163 2 1.9460 0.0596 0.0002 121.440 1.5054 4 0.0163 0.2369 0.0001 42.121 0.9476 6 0.3233 0.0540 5.39E-05 373.180 0.4318 8 0.1240 0.0556 5.46E-05 305.650 0.3772 10 0.0382 0.0086 1.24E-05 246.080 0.0919\n",
      "NarrativeText   2c0c28     678447     The plot of inhibitor concentration over degree of surface coverage versus inhibitor concentration gives a straight line as shown in Fig. 5. The strong correlation reveals that egg shell adsorption on stainless surface in 0.5 M H2SO, follow Langmuir adsorption isotherm. Figs. 6-8 show the SEM/EDX surface morphology analysis of stainless steel. Figs. 7 and 8 are the SEM/EDX images of the stainless steel specimens without and with inhibitor after weight loss experiment in sulphuric acid medium. The stainless steel surface corrosion product layer in the absence of inhibitor was porous and as a result gives no corrosion protection. With the presence of ES, corrosion damage was minimized, with an evidence of ES present on the metal surface as shown in Fig. 8.\n",
      "Image           2cb3b8                —=—Cc/0 12 2+ T T T 1 2 4 6 8 10 Concentration (g)\n",
      "FigureCaption   637cd2                Fig. 5. Langmuir adsorption isotherm of ES.\n"
     ]
    }
   ],
   "source": [
    "for el in elements:\n",
    "    print(\"{:15} {:10} {:10} {:40}\".format(el.category, el._element_id[:6] if el._element_id is not None else \"\", el.metadata.parent_id[:6] if el.metadata.parent_id is not None else \"\", el.text))"
   ]
  },
  {
   "cell_type": "code",
   "execution_count": 53,
   "id": "d2d94ece",
   "metadata": {},
   "outputs": [],
   "source": [
    "def remove_elements_of_type(elements, element_type=[\"Header\", \"Footer\"]):\n",
    "    \"\"\"\n",
    "    Remove header and footer elements from the list of elements.\n",
    "    \"\"\"\n",
    "    return [el for el in elements if el.category not in element_type]"
   ]
  },
  {
   "cell_type": "code",
   "execution_count": 54,
   "id": "039a9a84",
   "metadata": {},
   "outputs": [],
   "source": [
    "elements = remove_header_footer_elements(elements)"
   ]
  },
  {
   "cell_type": "code",
   "execution_count": 55,
   "id": "404cf5fb",
   "metadata": {},
   "outputs": [
    {
     "name": "stdout",
     "output_type": "stream",
     "text": [
      "NarrativeText   f2883d     2d5583     O. Sanni, A.P.. Popoola / Data in Brief 22 (2019) 451-457\n",
      "Image           82f81c                5 1 os = — 10; =o ° © —\" 205 i —~é é —ip a5 — Control -2 — & 2.5 T T T 0.0000001 + —-0.00001 0.001 O14 Current Density (A/cm2)\n",
      "FigureCaption   53f386                Fig. 4. Anodic and cathodic polarization curve of stainless steel in 0.5 M H2SO, solution in the presence and absence of ES.\n",
      "Title           678447                Table 1                                 \n",
      "FigureCaption   dfc7b7     678447     Potentiodynamic polarization data for stainless steel in the absence and presence of ES in 0.5 M H2SO, solution.\n",
      "Table           a16555     678447     Inhibitor be (V/dec) ba (V/dec) Ecorr (V) icorr (A/cm?) Polarization Corrosion concentration (g) resistance (Q) rate (mm/year) oO 0.0335 0.0409 0.0003 24.0910 2.8163 2 1.9460 0.0596 0.0002 121.440 1.5054 4 0.0163 0.2369 0.0001 42.121 0.9476 6 0.3233 0.0540 5.39E-05 373.180 0.4318 8 0.1240 0.0556 5.46E-05 305.650 0.3772 10 0.0382 0.0086 1.24E-05 246.080 0.0919\n",
      "NarrativeText   2c0c28     678447     The plot of inhibitor concentration over degree of surface coverage versus inhibitor concentration gives a straight line as shown in Fig. 5. The strong correlation reveals that egg shell adsorption on stainless surface in 0.5 M H2SO, follow Langmuir adsorption isotherm. Figs. 6-8 show the SEM/EDX surface morphology analysis of stainless steel. Figs. 7 and 8 are the SEM/EDX images of the stainless steel specimens without and with inhibitor after weight loss experiment in sulphuric acid medium. The stainless steel surface corrosion product layer in the absence of inhibitor was porous and as a result gives no corrosion protection. With the presence of ES, corrosion damage was minimized, with an evidence of ES present on the metal surface as shown in Fig. 8.\n",
      "Image           2cb3b8                —=—Cc/0 12 2+ T T T 1 2 4 6 8 10 Concentration (g)\n",
      "FigureCaption   637cd2                Fig. 5. Langmuir adsorption isotherm of ES.\n"
     ]
    }
   ],
   "source": [
    "for el in elements:\n",
    "    print(\"{:15} {:10} {:10} {:40}\".format(el.category, el._element_id[:6] if el._element_id is not None else \"\", el.metadata.parent_id[:6] if el.metadata.parent_id is not None else \"\", el.text))"
   ]
  },
  {
   "cell_type": "code",
   "execution_count": 56,
   "id": "99e64dae",
   "metadata": {},
   "outputs": [],
   "source": [
    "def remove_text_on_elements_of_type(elements, element_type=[\"Image\", \"Table\"]):\n",
    "    \"\"\"\n",
    "    Remove text elements that are of a certain type.\n",
    "    \"\"\"\n",
    "    ret = []\n",
    "    for el in elements:\n",
    "        if el.category not in element_type:\n",
    "            ret.append(el)\n",
    "        else:\n",
    "            # Remove text from the element\n",
    "            el.text = \"\"\n",
    "            ret.append(el)\n",
    "    return ret"
   ]
  },
  {
   "cell_type": "code",
   "execution_count": 57,
   "id": "13799b73",
   "metadata": {},
   "outputs": [],
   "source": [
    "elements = remove_text_on_elements_of_type(elements, element_type=[\"Image\", \"Table\"])"
   ]
  },
  {
   "cell_type": "code",
   "execution_count": 58,
   "id": "374c78b7",
   "metadata": {},
   "outputs": [
    {
     "name": "stdout",
     "output_type": "stream",
     "text": [
      "NarrativeText   f2883d     2d5583     O. Sanni, A.P.. Popoola / Data in Brief 22 (2019) 451-457\n",
      "Image           82f81c                                                        \n",
      "FigureCaption   53f386                Fig. 4. Anodic and cathodic polarization curve of stainless steel in 0.5 M H2SO, solution in the presence and absence of ES.\n",
      "Title           678447                Table 1                                 \n",
      "FigureCaption   dfc7b7     678447     Potentiodynamic polarization data for stainless steel in the absence and presence of ES in 0.5 M H2SO, solution.\n",
      "Table           a16555     678447                                             \n",
      "NarrativeText   2c0c28     678447     The plot of inhibitor concentration over degree of surface coverage versus inhibitor concentration gives a straight line as shown in Fig. 5. The strong correlation reveals that egg shell adsorption on stainless surface in 0.5 M H2SO, follow Langmuir adsorption isotherm. Figs. 6-8 show the SEM/EDX surface morphology analysis of stainless steel. Figs. 7 and 8 are the SEM/EDX images of the stainless steel specimens without and with inhibitor after weight loss experiment in sulphuric acid medium. The stainless steel surface corrosion product layer in the absence of inhibitor was porous and as a result gives no corrosion protection. With the presence of ES, corrosion damage was minimized, with an evidence of ES present on the metal surface as shown in Fig. 8.\n",
      "Image           2cb3b8                                                        \n",
      "FigureCaption   637cd2                Fig. 5. Langmuir adsorption isotherm of ES.\n"
     ]
    }
   ],
   "source": [
    "for el in elements:\n",
    "    print(\"{:15} {:10} {:10} {:40}\".format(el.category, el._element_id[:6] if el._element_id is not None else \"\", el.metadata.parent_id[:6] if el.metadata.parent_id is not None else \"\", el.text))"
   ]
  },
  {
   "cell_type": "code",
   "execution_count": 59,
   "id": "1d6ebf53",
   "metadata": {},
   "outputs": [],
   "source": [
    "from unstructured.chunking.basic import chunk_elements\n",
    "\n",
    "chunks = chunk_elements(elements)"
   ]
  },
  {
   "cell_type": "code",
   "execution_count": 60,
   "id": "1bb6342d",
   "metadata": {},
   "outputs": [
    {
     "data": {
      "text/plain": [
       "{'type': 'CompositeElement',\n",
       " 'element_id': '60c58217-0836-495a-898e-32a0544d0a64',\n",
       " 'text': 'O. Sanni, A.P.. Popoola / Data in Brief 22 (2019) 451-457\\n\\nFig. 4. Anodic and cathodic polarization curve of stainless steel in 0.5 M H2SO, solution in the presence and absence of ES.\\n\\nTable 1\\n\\nPotentiodynamic polarization data for stainless steel in the absence and presence of ES in 0.5 M H2SO, solution.',\n",
       " 'metadata': {'filename': 'embedded-images-tables.pdf',\n",
       "  'filetype': 'application/pdf',\n",
       "  'languages': ['eng'],\n",
       "  'last_modified': '2025-05-15T13:59:22',\n",
       "  'page_number': 1,\n",
       "  'orig_elements': 'eJzVVk2P2zYQ/SuETi1gc/lNam/pR9Ae2iywe1ssDEoc2ixkSZDoNNsg/70k7U3dXQdB3bhIb3qjGWqG7+mR9+8r6GALfVwFV12jyjNjuKvrxhMmWucpOCXyI7OuESCqBaq2EK2z0ab891U7DJMLvY0wF9zZx2EXVxsI601MEWpqkmoO4d+Di5sc5SRHxyH0Mdfd3wuisFwgyiSmDwv0EQuGdcbGECxO4JKfAtX8OEfY5hluwjvobkfbQvUhvXAQoY1h6FdtZ+d5NU5Dk9IIVpQQmhJ86KC3W8i1sG3AOXDLsLVrmJfRNh3MeHS+OmTGx7Fk2nHsQmvzwleH153t17tclieqoF9XDyU6x9V2cMEHKHvMCJNLIpdU3lF+LetrxnL1mCpX/S41MOUdKpHpL2aYk9JwopzV1FOqJW2JF44QLVoOTJRZI7zLm169wejW9n1YoFf4BmN0M4zD0Fl0hX5IxKHQo++mAB4xhr5hhNbfIiHpUkidG3ma8Fc7TWm+t3CXV03LPxeLYd7QtpGCSt9QowmzlBkpamGdNFRdTCycSswT+UZilsVwwIoLLDOutcjieI73+eeJpWZpp7+kWErNarRlxCrNO6aRw3Z95cN6N8GSLin+bVx/cV0dy+SY7Z9zP6dYltxzo0DUjEJDpDNGEWhqaohrfSPIxVim1OA6sSgPLD9hzZ+wEoX2FwF5Ps+GaVN/taZwTN7rsMZIYPSqT8u0yPYOpS9vChjTzz6FP0ojqN1NbwENHs3Rhj51PqcngC7bAMES/YJ+YrdvFmgeul0pSPG4ATROMEPfQlnaNvvntMyPt/hYOK+LXr+3Y649JSCljRC6FtwbLlgtWHKsptWsIYy51tYXFFDic4E0PdjAE062QArWMp8xL3DJP08+Wqta/S/kc5e7QPSYybsQu5MW4HyrG608ayF5KBHKklpRwyVxSjLKL8igxmk7tUiH/Z7BPZb6wBhRrFD2IlAqzrQARdjXawHP7wWf/buOSb8ZYqoMg3tMgz33icwe8sN0yieyHzxZQLaDj95Q/OBTTvLPfMLSZNxSGd4o5alvfTpigLaa+0RII/QFVVbjdLZrzQ4i2uN0Paz3l01KucbsVGRfc+aVggou/5MrRVnlYjeKf6XIv/lPbrP68PAnLpnDFg=='}}"
      ]
     },
     "execution_count": 60,
     "metadata": {},
     "output_type": "execute_result"
    }
   ],
   "source": [
    "chunks[0].to_dict()"
   ]
  }
 ],
 "metadata": {
  "kernelspec": {
   "display_name": ".venv",
   "language": "python",
   "name": "python3"
  },
  "language_info": {
   "codemirror_mode": {
    "name": "ipython",
    "version": 3
   },
   "file_extension": ".py",
   "mimetype": "text/x-python",
   "name": "python",
   "nbconvert_exporter": "python",
   "pygments_lexer": "ipython3",
   "version": "3.12.10"
  }
 },
 "nbformat": 4,
 "nbformat_minor": 5
}
